


import openvino as ov

print(f"OpenVINO version: {ov.__version__}")


import pkg_resources

package_name = "openvino-dev"

try:
    distribution = pkg_resources.get_distribution(package_name)
    version = distribution.version
    print(f"{package_name} version: {version}")
except pkg_resources.DistributionNotFound:
    print(f"{package_name} is not installed.")





! omz_downloader -h


! omz_downloader --print_all





! omz_downloader --name face-detection-adas-0001 --precision FP16


! omz_downloader --name emotions-recognition-retail-0003 --precision FP16


! omz_downloader --name age-gender-recognition-retail-0013 --precision FP16



