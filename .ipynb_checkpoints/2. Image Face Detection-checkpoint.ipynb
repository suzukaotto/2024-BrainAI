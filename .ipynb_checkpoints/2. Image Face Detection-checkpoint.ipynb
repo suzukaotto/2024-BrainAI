{
 "cells": [
  {
   "cell_type": "markdown",
   "id": "0fddb31c-8556-4ceb-9a90-ad78e16219e4",
   "metadata": {},
   "source": [
    "# Load Model"
   ]
  },
  {
   "cell_type": "code",
   "execution_count": 6,
   "id": "e45cfdf9-bf15-4584-9086-4ac27382b3d0",
   "metadata": {},
   "outputs": [
    {
     "name": "stdout",
     "output_type": "stream",
     "text": [
      "Input shape: [1,3,384,672]\n",
      "Output shape: [1,1,200,7]\n"
     ]
    }
   ],
   "source": [
    "import openvino as ov\n",
    "\n",
    "core = ov.Core()\n",
    "\n",
    "model = core.read_model(model='models/face-detection-adas-0001.xml')\n",
    "compiled_model = core.compile_model(model = model, device_name=\"CPU\")\n",
    "\n",
    "input_layer = compiled_model.input(0)\n",
    "output_layer = compiled_model.output(0)\n",
    "\n",
    "print(f\"Input shape: {input_layer.shape}\")\n",
    "print(f\"Output shape: {output_layer.shape}\")"
   ]
  },
  {
   "cell_type": "markdown",
   "id": "05983911-76cb-4e3e-ae95-56a8d0bf95a6",
   "metadata": {},
   "source": [
    "# Preprocess New Input Data"
   ]
  },
  {
   "cell_type": "markdown",
   "id": "030c5e49-ca33-414d-ac93-4e0c4e82962b",
   "metadata": {},
   "source": [
    "### Call Image"
   ]
  },
  {
   "cell_type": "code",
   "execution_count": 14,
   "id": "cc8a616e-1e69-447c-9422-55bce682b93f",
   "metadata": {},
   "outputs": [
    {
     "name": "stdout",
     "output_type": "stream",
     "text": [
      "(5472, 3648, 3)\n",
      "(1094, 729, 3)\n"
     ]
    }
   ],
   "source": [
    "import os\n",
    "import cv2\n",
    "import matplotlib.pyplot as plt\n",
    "\n",
    "image = cv2.imread(os.path.join('data', 'person.jpg'))\n",
    "print(image.shape)\n",
    "# plt.imshow(cv2.cvtColor(image, cv2.COLOR_BGR2RGB))\n",
    "\n",
    "image_height, image_width, image_channels = image.shape\n",
    "image = cv2.resize(image, (int(image_width/5), int(image_height/5)))\n",
    "print(image.shape)\n",
    "\n",
    "cv2.imshow(\"Image\", image)\n",
    "cv2.waitKey()\n",
    "cv2.destroyAllWindows()"
   ]
  },
  {
   "cell_type": "code",
   "execution_count": null,
   "id": "d4a575c6-e4f6-4fce-9d32-ba01e5d0782c",
   "metadata": {},
   "outputs": [],
   "source": []
  }
 ],
 "metadata": {
  "kernelspec": {
   "display_name": "Python 3 (ipykernel)",
   "language": "python",
   "name": "python3"
  },
  "language_info": {
   "codemirror_mode": {
    "name": "ipython",
    "version": 3
   },
   "file_extension": ".py",
   "mimetype": "text/x-python",
   "name": "python",
   "nbconvert_exporter": "python",
   "pygments_lexer": "ipython3",
   "version": "3.11.8"
  }
 },
 "nbformat": 4,
 "nbformat_minor": 5
}
